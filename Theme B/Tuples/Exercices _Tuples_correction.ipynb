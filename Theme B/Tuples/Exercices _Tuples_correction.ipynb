{
 "cells": [
  {
   "cell_type": "markdown",
   "metadata": {},
   "source": [
    "# Exercices d'entraînement Tuples"
   ]
  },
  {
   "cell_type": "code",
   "execution_count": 2,
   "metadata": {},
   "outputs": [
    {
     "name": "stdout",
     "output_type": "stream",
     "text": [
      "3723\n",
      "7201\n"
     ]
    }
   ],
   "source": [
    "# Exercice 1\n",
    "# compléter le corps de la fonction temps_secondes() qui renvoie le temps en \n",
    "# secondes correspondant au cumul de h heures, m minutes et s secondes.\n",
    "\n",
    "\n",
    "def temps_seconde(t):\n",
    "    \"\"\"\n",
    "   t – tuple (triplet d’entiers positifs (h , m ,s))\n",
    "    Sortie: int – temps en secondes égal à h heures,\n",
    "            m minutes et s secondes\n",
    "    >>> temps_seconde((1, 2, 3))\n",
    "    3723\n",
    "    >>> temps_seconde((2, 0, 1))\n",
    "    7201\n",
    "    \"\"\"\n",
    "    h, m, s = t\n",
    "    temps = h * 3600 + m * 60 + s\n",
    "    return  temps\n",
    "\n",
    "print(temps_seconde((1, 2, 3)))\n",
    "print(temps_seconde((2, 0, 1)))"
   ]
  },
  {
   "cell_type": "code",
   "execution_count": 3,
   "metadata": {},
   "outputs": [
    {
     "name": "stdout",
     "output_type": "stream",
     "text": [
      "(1, 2, 3)\n",
      "(2, 0, 1)\n"
     ]
    }
   ],
   "source": [
    "#  Exercice 2\n",
    "# Compléter le corps de la fonction a fonction sec_to_heure() qui prend pour paramètre un nombre \n",
    "# entier de secondes et qui renvoie la valeur correspondante sous forme d'un triplet (heures, minutes, secondes).\n",
    "\n",
    "\n",
    "def sec_to_heure(s):\n",
    "    \"\"\"\n",
    "    s – int\n",
    "    Sortie: triplet – conversion de s secondes en un\n",
    "            triplet (heure, minute, seconde)\n",
    "    >>> sec_to_heure(3723)\n",
    "    (1, 2, 3)\n",
    "    >>> sec_to_heure(7201)\n",
    "    (2, 0, 1)\n",
    "    \"\"\"\n",
    "    t = ()\n",
    "    t += (s//3600,)\n",
    "    s = s%3600\n",
    "    t += (s//60,)\n",
    "    s = s%60\n",
    "    t += (s,)\n",
    "    return t\n",
    "print(sec_to_heure(3723))\n",
    "print(sec_to_heure(7201))"
   ]
  },
  {
   "cell_type": "code",
   "execution_count": 5,
   "metadata": {},
   "outputs": [
    {
     "name": "stdout",
     "output_type": "stream",
     "text": [
      "0\n",
      "1\n",
      "3\n"
     ]
    }
   ],
   "source": [
    "# Exercice 3\n",
    "# Compléter le corps de la fonction coincidence() en respectant ses spécifications.\n",
    "\n",
    "\n",
    "def coincidence(t):\n",
    "    \"\"\"\n",
    "    t – tuple, t-uplet d'entiers positifs ou nuls\n",
    "    Sortie: int – nombre de valeurs égales à leur indice\n",
    "    >>> coincidence( (3, 2, 6) )\n",
    "    0\n",
    "    >>> coincidence( (3, 1, 6) )\n",
    "    1\n",
    "    >>> coincidence( (0, 1, 6, 3) )\n",
    "    3\n",
    "    \"\"\"\n",
    "    c = 0\n",
    "    for i in range (len(t)) :\n",
    "        if i == t[i]:\n",
    "            c += 1\n",
    "    return c\n",
    "\n",
    "print(coincidence((3, 2, 6)))\n",
    "print(coincidence((3, 1, 6)))\n",
    "print(coincidence((0, 1, 6, 3)))"
   ]
  },
  {
   "cell_type": "code",
   "execution_count": 6,
   "metadata": {},
   "outputs": [
    {
     "name": "stdout",
     "output_type": "stream",
     "text": [
      "True\n",
      "True\n",
      "False\n"
     ]
    }
   ],
   "source": [
    "# Exercice 4\n",
    "# 1. On souhaite définir la fonction fractions_egales(), dont les paramètres sont quatre entiers a, b, c, d et \n",
    "# qui renvoie True si les fractions a/b et c/d  sont égales, False sinon.\n",
    "\n",
    "# Quelle précondition semble-t-il raisonnable d'imposer ?  Ecrire votre reponse ici:\n",
    "# Il semble raisonnable d'imposer que a, b, c et d soient des entiers \n",
    "# et que  b et d soient deux entiers differents de 0.\n",
    "\n",
    "# 2. complétez le corps de la fonction fractionsEgales() en n'oubliant pas de faire l'assertion correspondant à la précondition précédente.\n",
    "\n",
    "\n",
    "def fractions_egales(a, b, c, d):\n",
    "    \"\"\"\n",
    "    a, b, c, d – int\n",
    "    Sortie: booléen – True si les fractions a/b et c/d sont égales,\n",
    "            False sinon\n",
    "    >>> fractions_egales(1, 2, 4, 8)\n",
    "    True\n",
    "    >>> fractions_egales(3, 9, 12, 36)\n",
    "    True\n",
    "    >>> fractions_egales(3, 4, 5, 7)\n",
    "    False\n",
    "    \"\"\"\n",
    "    assert isinstance(a, int) and isinstance(b, int) and isinstance(c, int) and isinstance(d, int)\n",
    "    assert b!= 0 and d!= 0, 'attention les denominateurs des fractions ne peuvent pas etre nuls'\n",
    "    return a*d == c*b\n",
    "\n",
    "print(fractions_egales(1, 2 , 4, 8))\n",
    "print(fractions_egales(3, 9, 12, 36))\n",
    "print(fractions_egales(3, 4, 5, 7))"
   ]
  },
  {
   "cell_type": "code",
   "execution_count": 7,
   "metadata": {},
   "outputs": [
    {
     "name": "stdout",
     "output_type": "stream",
     "text": [
      "(2.5, 5.0)\n",
      "(-1.0, 2.5)\n"
     ]
    }
   ],
   "source": [
    "# Exercice 5\n",
    "# Compléter le corps de la fonction milieu() qui renvoie le couple de coordonnées du point milieu des deux points passés en paramètre.\n",
    "# Aide: On représente un point du plan par le couple (x, y) de ses coordonnées dans un repère orthonormé. Dans python , on utilise \n",
    "# un tuple pour definir les coordonnees des points\n",
    "\n",
    "def milieu(A, B):\n",
    "    \"\"\"\n",
    "    A – tuple, couple de nombres - coordonnées du premier point\n",
    "    B – tuple, couple de nombres - coordonnées du second point\n",
    "    Sortie: tuple – couple des coordonnées du milieu de [AB]\n",
    "    >>> milieu( (1, 2), (4, 8) )\n",
    "    (2.5, 5)\n",
    "    >>> milieu( (-5, 7), (3, -2) )\n",
    "    (-1, 2.5)\n",
    "    \"\"\"\n",
    "    x = (A[0]+B[0])/2\n",
    "    y = (A[1]+B[1])/2\n",
    "    \n",
    "    return (x,y)\n",
    "\n",
    "print(milieu((1, 2), (4, 8)))\n",
    "print(milieu((-5, 7), (3, -2)))"
   ]
  },
  {
   "cell_type": "code",
   "execution_count": 8,
   "metadata": {},
   "outputs": [
    {
     "name": "stdout",
     "output_type": "stream",
     "text": [
      "5.0\n",
      "29.0\n"
     ]
    }
   ],
   "source": [
    "# Exercice 6\n",
    "# Compléter le corps de la fonction distance() qui renvoie le couple de coordonnées du point milieu des deux points passés en paramètre.\n",
    "\n",
    "from math import *\n",
    "def distance(A, B):\n",
    "    \"\"\"\n",
    "    A – tuple, couple de nombres - coordonnées du premier point\n",
    "    B – tuple, couple de nombres - coordonnées du second point\n",
    "    Sortie: float – longueur du segment [AB]\n",
    "    >>> distance( (1, 2), (4, 6) )\n",
    "    5.0\n",
    "    >>> distance( (-5, 18), (16, -2) )\n",
    "    29.0\n",
    "    \"\"\"\n",
    "    x = B[0] - A[0]\n",
    "    y = B[1] - A[1]\n",
    "    d = sqrt(x ** 2 + y ** 2)\n",
    "    return d\n",
    "\n",
    "print(distance((1, 2), (4, 6)))\n",
    "print(distance((-5, 18), (16, -2)))"
   ]
  }
 ],
 "metadata": {
  "kernelspec": {
   "display_name": "Python 3.10.8 64-bit (microsoft store)",
   "language": "python",
   "name": "python3"
  },
  "language_info": {
   "codemirror_mode": {
    "name": "ipython",
    "version": 3
   },
   "file_extension": ".py",
   "mimetype": "text/x-python",
   "name": "python",
   "nbconvert_exporter": "python",
   "pygments_lexer": "ipython3",
   "version": "3.10.9 (tags/v3.10.9:1dd9be6, Dec  6 2022, 20:01:21) [MSC v.1934 64 bit (AMD64)]"
  },
  "orig_nbformat": 4,
  "vscode": {
   "interpreter": {
    "hash": "10ba4a643af5912602431910803a675cc7482c7c144651332b07c691003ef31a"
   }
  }
 },
 "nbformat": 4,
 "nbformat_minor": 2
}
