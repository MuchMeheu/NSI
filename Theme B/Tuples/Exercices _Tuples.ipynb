{
 "cells": [
  {
   "cell_type": "markdown",
   "metadata": {},
   "source": [
    "# Exercices d'entraînement Tuples"
   ]
  },
  {
   "cell_type": "code",
   "execution_count": 33,
   "metadata": {},
   "outputs": [
    {
     "name": "stdout",
     "output_type": "stream",
     "text": [
      "2\n",
      "0\n",
      "1\n",
      "7201\n"
     ]
    }
   ],
   "source": [
    "# Exercice 1\n",
    "# compléter le corps de la fonction temps_secondes() qui renvoie le temps en \n",
    "# secondes correspondant au cumul de h heures, m minutes et s secondes.\n",
    "\n",
    "\n",
    "def temps_seconde(t):\n",
    "    \"\"\"\n",
    "   t – tuple (triplet d’entiers positifs (h , m ,s))\n",
    "    Sortie: int – temps en secondes égal à h heures,\n",
    "            m minutes et s secondes\n",
    "    >>> temps_seconde((1, 2, 3))\n",
    "    3723\n",
    "    >>> temps_seconde((2, 0, 1))\n",
    "    7201\n",
    "    \"\"\"\n",
    "    temps=0\n",
    "    for index in t:\n",
    "        print(index)\n",
    "        if index==0:\n",
    "            temps+=t[index]*60*60\n",
    "        if index==1:\n",
    "            temps+=t[index]*60\n",
    "        if index==2:\n",
    "            temps+=t[index]\n",
    "    return(temps)\n",
    "t=2,0,1\n",
    "print(temps_seconde(t))"
   ]
  },
  {
   "cell_type": "code",
   "execution_count": 19,
   "metadata": {},
   "outputs": [
    {
     "name": "stdout",
     "output_type": "stream",
     "text": [
      "(2, 0, 1)\n"
     ]
    }
   ],
   "source": [
    "#  Exercice 2\n",
    "# Compléter le corps de la fonction a fonction sec_to_heure() qui prend pour paramètre un nombre \n",
    "# entier de secondes et qui renvoie la valeur correspondante sous forme d'un triplet (heures, minutes, secondes).\n",
    "\n",
    "\n",
    "def sec_to_heure(s):\n",
    "    \"\"\"\n",
    "    s – int\n",
    "    Sortie: triplet – conversion de s secondes en un\n",
    "            triplet (heure, minute, seconde)\n",
    "    >>> sec_to_heure(3723)\n",
    "    (1, 2, 3)\n",
    "    >>> sec_to_heure(7201)\n",
    "    (2, 0, 1)\n",
    "    \"\"\"\n",
    "    temps=tuple()\n",
    "    heure = 0\n",
    "    minute=0\n",
    "    seconde=0\n",
    "    while s//120!=0:\n",
    "        s=s-3600\n",
    "        heure+=1\n",
    "    while s//60!=0:\n",
    "        s=s-60\n",
    "        minute+=1\n",
    "    seconde=s\n",
    "    temps=heure,minute,seconde\n",
    "    return temps\n",
    "\n",
    "\n",
    "s=7201\n",
    "print(sec_to_heure(s))\n"
   ]
  },
  {
   "cell_type": "code",
   "execution_count": 34,
   "metadata": {},
   "outputs": [
    {
     "name": "stdout",
     "output_type": "stream",
     "text": [
      "3\n"
     ]
    }
   ],
   "source": [
    "# Exercice 3\n",
    "# Compléter le corps de la fonction coincidence() en respectant ses spécifications.\n",
    "\n",
    "\n",
    "def coincidence(t):\n",
    "    \"\"\"\n",
    "    t – tuple, t-uplet d'entiers positifs ou nuls\n",
    "    Sortie: int – nombre de valeurs égales à leur indice\n",
    "    >>> coincidence( (3, 2, 6) )\n",
    "    0\n",
    "    >>> coincidence( (3, 1, 6) )\n",
    "    1\n",
    "    >>> coincidence( (0, 1, 6, 3) )\n",
    "    3\n",
    "    \"\"\"\n",
    "    nbr=0\n",
    "    for index, valeur  in enumerate(t):\n",
    "        if index==valeur:\n",
    "            nbr+=1\n",
    "    return nbr\n",
    "print(coincidence( (0, 1, 6, 3) ))\n"
   ]
  },
  {
   "cell_type": "code",
   "execution_count": 1,
   "metadata": {},
   "outputs": [
    {
     "name": "stdout",
     "output_type": "stream",
     "text": [
      "True\n",
      "False\n"
     ]
    }
   ],
   "source": [
    "# Exercice 4\n",
    "# 1. On souhaite définir la fonction fractions_egales(), dont les paramètres sont quatre entiers a, b, c, d et \n",
    "# qui renvoie True si les fractions a/b et c/d  sont égales, False sinon.\n",
    "\n",
    "# Quelle précondition semble-t-il raisonnable d'imposer ?  Ecrire votre reponse ici:\n",
    "#que b et c ne soit pas nul\n",
    "# 2. complétez le corps de la fonction fractionsEgales() en n'oubliant pas de faire l'assertion correspondant à la précondition précédente.\n",
    "\n",
    "\n",
    "def fractions_egales(a, b, c, d):\n",
    "    \"\"\"\n",
    "    a, b, c, d – int\n",
    "    Sortie: booléen – True si les fractions a/b et c/d sont égales,\n",
    "            False sinon\n",
    "    >>> fractions_egales(1, 2, 4, 8)\n",
    "    True\n",
    "    >>> fractions_egales(3, 9, 12, 36)\n",
    "    Truefractions_egales(3, 4, 5, 7)\n",
    "    >>> \n",
    "    False\n",
    "    \"\"\"\n",
    "    assert b!=0 and c!=0,\"Problement valeure nul\"\n",
    "    if a/b == c/d:\n",
    "        return True\n",
    "    else :return False\n",
    "print(fractions_egales(3, 9, 12, 36))\n",
    "print(fractions_egales(3, 4, 5, 7))"
   ]
  },
  {
   "cell_type": "code",
   "execution_count": 3,
   "metadata": {},
   "outputs": [
    {
     "name": "stdout",
     "output_type": "stream",
     "text": [
      "(-1.0, 4.5)\n"
     ]
    }
   ],
   "source": [
    "# Exercice 5\n",
    "# Compléter le corps de la fonction milieu() qui renvoie le couple de coordonnées du point milieu des deux points passés en paramètre.\n",
    "# Aide: On représente un point du plan par le couple (x, y) de ses coordonnées dans un repère orthonormé. Dans python , on utilise \n",
    "# un tuple pour definir les coordonnees des points\n",
    "\n",
    "def milieu(A, B):\n",
    "    \"\"\"\n",
    "    A – tuple, couple de nombres - coordonnées du premier point\n",
    "    B – tuple, couple de nombres - coordonnées du second point\n",
    "    Sortie: tuple – couple des coordonnées du milieu de [AB]\n",
    "    >>> milieu( (1, 2), (4, 8) )\n",
    "    (2.5, 5)\n",
    "    >>> milieu( (-5, 7), (3, -2) )\n",
    "    (-1, 2.5)\n",
    "    \"\"\"\n",
    "    coord=tuple()\n",
    "    x=(A[0]+B[0])/2\n",
    "    y=(A[1]-B[1])/2\n",
    "    return (x,y)\n",
    "\n",
    "print(milieu( (-5, 7), (3, -2) ))"
   ]
  },
  {
   "cell_type": "code",
   "execution_count": 3,
   "metadata": {},
   "outputs": [
    {
     "name": "stdout",
     "output_type": "stream",
     "text": [
      "29.0\n"
     ]
    }
   ],
   "source": [
    "# Exercice 6\n",
    "# Compléter le corps de la fonction distance() qui renvoie le couple de coordonnées du point milieu des deux points passés en paramètre.\n",
    "import math\n",
    "def distance(A, B):\n",
    "    \"\"\"\n",
    "    A – tuple, couple de nombres - coordonnées du premier point\n",
    "    B – tuple, couple de nombres - coordonnées du second point\n",
    "    Sortie: float – longueur du segment [AB]\n",
    "    >>> distance( (1, 2), (4, 6) )\n",
    "    5.0\n",
    "    >>> distance( (-5, 18), (16, -2) )\n",
    "    29.0    \"\"\"\n",
    "    Distance=math.sqrt((B[0]-A[0])**2+(B[1]-A[1])**2)\n",
    "    return Distance\n",
    "print(distance( (-5, 18), (16, -2) ))\n",
    "\n",
    "    "
   ]
  }
 ],
 "metadata": {
  "kernelspec": {
   "display_name": "Python 3.10.8 64-bit (microsoft store)",
   "language": "python",
   "name": "python3"
  },
  "language_info": {
   "codemirror_mode": {
    "name": "ipython",
    "version": 3
   },
   "file_extension": ".py",
   "mimetype": "text/x-python",
   "name": "python",
   "nbconvert_exporter": "python",
   "pygments_lexer": "ipython3",
   "version": "3.10.12"
  },
  "orig_nbformat": 4,
  "vscode": {
   "interpreter": {
    "hash": "10ba4a643af5912602431910803a675cc7482c7c144651332b07c691003ef31a"
   }
  }
 },
 "nbformat": 4,
 "nbformat_minor": 2
}
