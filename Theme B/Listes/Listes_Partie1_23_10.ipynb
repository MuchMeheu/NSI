{
 "cells": [
  {
   "cell_type": "markdown",
   "metadata": {},
   "source": [
    " \n",
    "\n",
    "\n",
    "\n",
    "# Cours et activités sur les listes (Tableaux)"
   ]
  },
  {
   "cell_type": "markdown",
   "metadata": {},
   "source": [
    "## Définition\n",
    "\n",
    "Une **liste** en python permet de stocker des données. On parle de *structure de données* ou bien d'objet *conteneur*, c'est à dire d'un objet qui peut en contenir un autre. Une liste est un objet modifiable (**mutable**) contrairement à un tuple (anglicisme informatique signifiant \"Table UPLEt\").\n",
    "\n",
    "On notes les listes avec des crochets, les valeurs séparées par des virgules : [ valeur1 , valeur2  ,valeur3]\n",
    "\n",
    "Par exemple : "
   ]
  },
  {
   "cell_type": "code",
   "execution_count": 2,
   "metadata": {},
   "outputs": [
    {
     "name": "stdout",
     "output_type": "stream",
     "text": [
      "[1, 2, 3]\n",
      "[1.2, 0.2, 3.7]\n",
      "[[1, 2, 3], [4, 5], [10, 20, 30]]\n",
      "['a', 'b', 'c']\n",
      "[(1, 2), (4, 5)]\n",
      "['ab', [2, (True, False)], 56.5, None]\n"
     ]
    }
   ],
   "source": [
    "liste1 = [1,2,3] # une liste d'entiers\n",
    "liste2 = [1.2,0.2,3.7] # une liste de flotants\n",
    "liste3 = [[1,2,3],[4,5],[10,20,30]] # une liste de listes\n",
    "liste4 = ['a','b','c'] # une liste de str\n",
    "liste5 = [(1,2),(4,5)] # une liste de tuples, les tuples ne sont pas modifiables, essayez !\n",
    "\n",
    "liste6 = [\"ab\",[2,(5>4,False)],56.5,None] #Une liste de n'importe quoi .\n",
    "print(liste1)\n",
    "print(liste2)\n",
    "print(liste3)\n",
    "print(liste4)\n",
    "print(liste5)\n",
    "print(liste6)"
   ]
  },
  {
   "cell_type": "markdown",
   "metadata": {},
   "source": [
    "## Comment créer une liste en python ? \n",
    "\n",
    "Pour **initialiser une liste**, on utile la syntaxe suivante qui va créer une variable de type list, vide. \n",
    "- A l’aide de la fonction “list()”\n",
    "- A l’aide des crochets “[ ]”\n",
    "- ajouter l'instruction print pour voir le contenu des listes a et b"
   ]
  },
  {
   "cell_type": "code",
   "execution_count": 3,
   "metadata": {},
   "outputs": [],
   "source": [
    "a=list() # A l’aide de la fonction “list()”\n",
    "b=[]     # A l’aide des crochets “[]”\n"
   ]
  },
  {
   "cell_type": "markdown",
   "metadata": {},
   "source": [
    "On peut vérifier le type de la variable créée."
   ]
  },
  {
   "cell_type": "code",
   "execution_count": 4,
   "metadata": {},
   "outputs": [
    {
     "name": "stdout",
     "output_type": "stream",
     "text": [
      "La liste a est de type :  <class 'list'>\n",
      "La liste b est de type :  <class 'list'>\n"
     ]
    }
   ],
   "source": [
    "print('La liste a est de type : ' ,type(a) )\n",
    "print('La liste b est de type : ' ,type(b) )"
   ]
  },
  {
   "cell_type": "markdown",
   "metadata": {},
   "source": [
    "## Comment ajouter des valeurs dans une liste python ?  \n",
    "\n",
    "1. Ajout à la création : Vous pouvez **ajouter les valeurs** que vous voulez lors de la création de la liste python.  "
   ]
  },
  {
   "cell_type": "code",
   "execution_count": 5,
   "metadata": {},
   "outputs": [
    {
     "name": "stdout",
     "output_type": "stream",
     "text": [
      "[10, 20, 30]\n"
     ]
    }
   ],
   "source": [
    "a=[10,20,30] # on créé une liste avec 3 éléments\n",
    "print(a)"
   ]
  },
  {
   "cell_type": "markdown",
   "metadata": {},
   "source": [
    "2. Ajout avec la méthode **.append()** \n",
    "Ou les ajouter **après la création de la liste** avec la méthode **.append()** (qui signifie \"ajouter\" en anglais). \n",
    "\n",
    "La syntaxe est alors : liste.append(élément)\n"
   ]
  },
  {
   "cell_type": "code",
   "execution_count": 6,
   "metadata": {},
   "outputs": [
    {
     "name": "stdout",
     "output_type": "stream",
     "text": [
      "avant .append() : [10, 20, 30]\n",
      "après .append() : [10, 20, 30, 27]\n"
     ]
    }
   ],
   "source": [
    "print('avant .append() :' , a)\n",
    "a.append(27) # on ajoute 27 à la fin de la liste\n",
    "print('après .append() :' , a)"
   ]
  },
  {
   "cell_type": "markdown",
   "metadata": {},
   "source": [
    "## Comment insérer une valeur dans une liste python ?\n",
    "On peut insérer l'élément *elemt* dans la liste à l'indice *indice* et décaler les éléments suivant avec : **liste.insert(indice,elemt)**"
   ]
  },
  {
   "cell_type": "code",
   "execution_count": 7,
   "metadata": {},
   "outputs": [
    {
     "name": "stdout",
     "output_type": "stream",
     "text": [
      "avant .insert(2,-150) : [10, 20, 30, 27]\n",
      "après .insert(2,-150) : [10, 20, -150, 30, 27]\n",
      "après .insert(20,-70) : [10, 20, -150, 30, 27, -70]\n"
     ]
    }
   ],
   "source": [
    "print('avant .insert(2,-150) :' , a)\n",
    "a.insert(2,-150) # on ajoute -150 en 3e position de la liste (ou à l'indice 2)\n",
    "print('après .insert(2,-150) :' , a)\n",
    "\n",
    "# si l'indice est suppérieur à la longueur de la liste, on l'ajoute à la fin\n",
    "a.insert(20,-70) # l'indice 20 est supérieur à la longueur de la liste, on ajoute à la fin\n",
    "print('après .insert(20,-70) :' , a)"
   ]
  },
  {
   "cell_type": "markdown",
   "metadata": {},
   "source": [
    "## La longueur d'une liste python.  \n",
    "- La **longueur d'une liste** est le nombre des éléments qui la compose. On l'obtient avec la fonction *len(ma_liste)*."
   ]
  },
  {
   "cell_type": "code",
   "execution_count": null,
   "metadata": {},
   "outputs": [
    {
     "name": "stdout",
     "output_type": "stream",
     "text": [
      "[(1, 2), (3, 4), (5, 6), (7, 8)]\n",
      "La longueur de la liste a est : 4\n"
     ]
    },
    {
     "data": {
      "text/plain": [
       "4"
      ]
     },
     "metadata": {},
     "output_type": "display_data"
    }
   ],
   "source": [
    "# Une liste de 4 tuples : (1,2) , (3,4) , (5,6) , (7,8)\n",
    "autre_liste=[(1,2),(3,4),(5,6),(7,8)]\n",
    "\n",
    "print(autre_liste)\n",
    "print('La longueur de la liste a est :' , len(autre_liste))\n",
    "len(autre_liste)"
   ]
  },
  {
   "cell_type": "markdown",
   "metadata": {},
   "source": [
    "## Un premier exercice "
   ]
  },
  {
   "cell_type": "code",
   "execution_count": 9,
   "metadata": {},
   "outputs": [
    {
     "name": "stdout",
     "output_type": "stream",
     "text": [
      "7\n",
      "[2, 3, 51, 5, 7, 11, 13, 17]\n"
     ]
    }
   ],
   "source": [
    "## Exercice 1 : Question 1\n",
    "# 1.a Cette une liste nommée *maliste1* qui comprendra les valeurs : 2,3,5,7,11,13,17\n",
    "# 1.b Afficher sa longueur.\n",
    "# 1.c Insérer 51 à l'indice 2\n",
    "# 1.c afficher la liste modifiée\n",
    "\n",
    "maliste1=[2,3,5,7,11,13,17]\n",
    "print(len(maliste1))\n",
    "maliste1.insert(2,51)\n",
    "print(maliste1)\n"
   ]
  },
  {
   "cell_type": "markdown",
   "metadata": {},
   "source": [
    "## Les liste définies en compréhension\n",
    "Les listes en compréhension sont une syntaxe présente dans le langage Python (entre autres) permettant de filtrer un itérable (comme une liste). En gros, cela permet l’écriture d’une boucle for dont la finalité est de créer une liste. \n",
    "Un exemple sera plus parlant."
   ]
  },
  {
   "cell_type": "code",
   "execution_count": null,
   "metadata": {},
   "outputs": [],
   "source": [
    "# On souhaite  créer la liste des carrés de 0² à 10²\n",
    "liste_boucle = []    # On cree une liste vide\n",
    "for i in range(11):  # on definit une boucle de i allant de 0 a 10\n",
    "    ..................  # on remplit la liste avec la methode append : A completer\n",
    "print(liste_boucle)"
   ]
  },
  {
   "cell_type": "markdown",
   "metadata": {},
   "source": [
    "On aurait pu définir cette liste directement par `compréhension` : \n"
   ]
  },
  {
   "cell_type": "code",
   "execution_count": null,
   "metadata": {},
   "outputs": [],
   "source": [
    "liste_comprehension=[i*i for i in range(11)]\n",
    "print(liste_comprehension)"
   ]
  },
  {
   "cell_type": "code",
   "execution_count": null,
   "metadata": {},
   "outputs": [],
   "source": [
    "# Un autre exemple consiste à définir la même liste que précédement mais n'ayant que les carrés pairs parmis les  0² à 10²\n",
    "liste_comprehensionV2= [i*i for i in range(11) if i*i % 2 ==0]\n",
    "print(liste_comprehensionV2)"
   ]
  },
  {
   "cell_type": "code",
   "execution_count": 11,
   "metadata": {},
   "outputs": [
    {
     "name": "stdout",
     "output_type": "stream",
     "text": [
      "[1, 3, 5, 7, 9, 11, 13, 15, 17, 19, 21, 23, 25, 27, 29, 31]\n",
      "[2, 4, 6, 8, 10, 12, 14, 16, 18, 20, 22, 24, 26, 28, 30, 32]\n"
     ]
    }
   ],
   "source": [
    "## Exercice 1 : Question 2\n",
    "# Ecrire par compréhension,  la liste des nombres impairs de 1 à 31. On nommera cette liste maliste2\n",
    "# Ecrire avec une boucle, la liste des nombres pairs de 2 à 32. On nommera cette liste maliste3\n",
    "\n",
    "# Version 1\n",
    "maliste2 = [i for i in range(1,32) if i%2!=0] # A completer\n",
    "# Version 2\n",
    "maliste2 =  [i for i in range(1,32,2)] # A completer\n",
    "print(maliste2)\n",
    "\n",
    "#Creation de la liste maliste3\n",
    "maliste3=[]\n",
    "for i in range (2,33,2): # A completer\n",
    "    maliste3.append(i) # A completer\n",
    "print(maliste3)"
   ]
  },
  {
   "cell_type": "markdown",
   "metadata": {},
   "source": [
    "## Comment récupérer une valeur dans une liste python?\n",
    "\n",
    "Pour lire une liste, on peut demander à voir l'index de la valeur qui nous intéresse."
   ]
  },
  {
   "cell_type": "code",
   "execution_count": null,
   "metadata": {},
   "outputs": [],
   "source": [
    "# Une liste de 4 float : 1.2 , 3.4 , 5.6 , 7.8\n",
    "autre_liste=[1.2 , 3.4 , 5.6 , 7.8]\n",
    "autre_liste[0] # désigne le premier élément de la liste, d'index 0"
   ]
  },
  {
   "cell_type": "code",
   "execution_count": null,
   "metadata": {},
   "outputs": [],
   "source": [
    "autre_liste[1] # désigne le 2e élément de la liste, d'index 1"
   ]
  },
  {
   "cell_type": "markdown",
   "metadata": {},
   "source": [
    "Le premier item commence toujours avec l'index 0. Pour lire la premier item on utilise la valeur 0, le deuxième on utilise la valeur 1, etc.\n",
    "\n",
    "Il est d'ailleurs possible de modifier une valeur avec son **index**. "
   ]
  },
  {
   "cell_type": "code",
   "execution_count": null,
   "metadata": {},
   "outputs": [],
   "source": [
    "print('Liste avant la modification du 3e élément' , autre_liste)\n",
    "autre_liste[2]='bonjour' # on modifie le 3e élément, d'index 2\n",
    "print('Liste après la modification du 3e élément' , autre_liste)"
   ]
  },
  {
   "cell_type": "markdown",
   "metadata": {},
   "source": [
    "Remarque: Attention! Cela n'est pas possible dans le cas des chaines de caracteres et des tuples. En executant les deux scripts suivants, que obtenez vous?"
   ]
  },
  {
   "cell_type": "code",
   "execution_count": null,
   "metadata": {},
   "outputs": [],
   "source": [
    "#essayons de modifier un caractere d'une chaine de caractère \"ENAC\"\n",
    "chaine=\"ENAC\"\n",
    "chaine[0]='A'"
   ]
  },
  {
   "cell_type": "code",
   "execution_count": null,
   "metadata": {},
   "outputs": [],
   "source": [
    "#essayons de modifier un element d'un tuple \n",
    "Mon_tuple=(3,5, 3.5, 69)\n",
    "Mon_tuple[1]='A'"
   ]
  },
  {
   "cell_type": "markdown",
   "metadata": {},
   "source": [
    "les tuples et les chaines de caractère sont *immuables*, les listes sont *muables* (nous y reviendrons dans le prochain chapitre)."
   ]
  },
  {
   "cell_type": "markdown",
   "metadata": {},
   "source": [
    "Faites de même avec votre liste **maliste**. Changer des éléments de votre liste.\n"
   ]
  },
  {
   "cell_type": "code",
   "execution_count": null,
   "metadata": {},
   "outputs": [],
   "source": [
    "## Exercice 1 : Question 3a \n",
    "# Ecrire un code qui permet de modifier la 4eme valeur de maliste1\n",
    "# essayer l'instruction print (maliste1[20])\n",
    "maliste1=  [2,3,5,7,11,13,17]\n",
    "print(maliste1)\n"
   ]
  },
  {
   "cell_type": "code",
   "execution_count": 1,
   "metadata": {},
   "outputs": [
    {
     "name": "stdout",
     "output_type": "stream",
     "text": [
      "[100, 200, 300]\n",
      "[11, 22]\n",
      "[4, 5, 6]\n"
     ]
    }
   ],
   "source": [
    "## Exercice 1 : Question 3b \n",
    "# On considère la liste3 qui est une liste de listes\n",
    "Liste3 = [[100,200,300],[11,22],[4,5,6]] # une liste de listes\n",
    "# Le premier item de cette liste est : liste3[0] soit [100,200,300] (qui est une liste)\n",
    "# Le DEUXIEME item de cette liste est : liste3[1]  soit [11,22]\n",
    "# Afficher les 3 items de cette liste sans afficher la liste.\n",
    "print(Liste3[0])\n",
    "print(Liste3[1])\n",
    "print(Liste3[2])\n"
   ]
  },
  {
   "cell_type": "code",
   "execution_count": 2,
   "metadata": {},
   "outputs": [
    {
     "name": "stdout",
     "output_type": "stream",
     "text": [
      "300\n"
     ]
    }
   ],
   "source": [
    "## Exercice 1 : Question 3c \n",
    "# Comment accéder directement à la valeur 300, le 3e élément de l'item 1 : [100,200,300]? écrire l'instruction correspondante\n",
    "# Comment accéder à la valeur 22, le 2e élément de l'item 2 : [11,22] ? écrire l'instruction correspondante\n",
    "# Comment accéder à la valeur 4, le 1er élément de l'item 3 : [4,5,6]? écrire l'instruction correspondante\n",
    "print(Liste3[0][2])\n",
    "print(Liste3[1][1])ste3[0])\n",
    "print(Liste3[2][0])"
   ]
  },
  {
   "cell_type": "markdown",
   "metadata": {},
   "source": [
    "\n",
    "\n"
   ]
  }
 ],
 "metadata": {
  "kernelspec": {
   "display_name": "Python 3",
   "language": "python",
   "name": "python3"
  },
  "language_info": {
   "codemirror_mode": {
    "name": "ipython",
    "version": 3
   },
   "file_extension": ".py",
   "mimetype": "text/x-python",
   "name": "python",
   "nbconvert_exporter": "python",
   "pygments_lexer": "ipython3",
   "version": "3.10.12"
  },
  "orig_nbformat": 4,
  "vscode": {
   "interpreter": {
    "hash": "10ba4a643af5912602431910803a675cc7482c7c144651332b07c691003ef31a"
   }
  }
 },
 "nbformat": 4,
 "nbformat_minor": 2
}
