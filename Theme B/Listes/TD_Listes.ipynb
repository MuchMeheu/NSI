{
 "cells": [
  {
   "cell_type": "markdown",
   "metadata": {},
   "source": [
    "#  TD - Les listes sous Python"
   ]
  },
  {
   "cell_type": "markdown",
   "metadata": {},
   "source": [
    "## Exercice 2\n",
    "1. Créer par compréhension une liste L1 de 6 entiers aléatoires compris entre 1 et 100. Aide : utiliser `randint(a,b)` du module `random`\n",
    "2. Créer par compréhension une liste L2 de 7 entiers aléatoires compris entre 1 et 100. Aide : utiliser `randint(a,b)` du module `random`\n",
    "\n",
    "3. Créer les liste `L3=[100,25,15,40]` et `L4=[20,9,4,7]` et `L5=[40,29,14,7,15]` puis calculer la moyenne et la médiane des valeurs de chacune des listes (à la main).\n",
    "3. Ecrire une fonction moyenne qui calcule la moyenne d'une liste de flottants et la tester sur vos deux listes L3 et L4 puis sur L1 et L2. Vous n'avez pas le droit d'utiliser de module externe comme statistics.\n",
    "4. Ecrire une fonction max_liste qui calcule le max d'une liste de flottants et la tester sur vos deux listes L3 et L4 puis sur L1 et L2. Vous n'avez pas le droit d'utiliser de module externe comme statistics.\n",
    "5. Ecrire une fonction min_liste qui calcule le min d'une liste de flottants et la tester sur vos deux listes L3 et L4 puis sur L1 et L2. Vous n'avez pas le droit d'utiliser de module externe comme statistics."
   ]
  },
  {
   "cell_type": "code",
   "execution_count": 2,
   "metadata": {},
   "outputs": [
    {
     "name": "stdout",
     "output_type": "stream",
     "text": [
      "[17, 84, 20, 57, 22, 90]\n",
      "[25, 51, 32, 55, 87, 82, 81]\n",
      "45.0\n",
      "100\n",
      "15\n"
     ]
    }
   ],
   "source": [
    "## Exercice 2\n",
    "from random import randint\n",
    "listeL1=[randint(0,100)for i in range(6)] # A completer\n",
    "print(listeL1)\n",
    "\n",
    "listeL2=[randint(0,100)for i in range(7)] # A completer\n",
    "print(listeL2)\n",
    "\n",
    "L3=[100,25,15,40]   # L3 de moyenne = 45 et de max = 100 et de min = 15\n",
    "L4=[20,9,4,7,1]     # L4 de moyenne = 8,2 et de max = 20 et de min = 1 \n",
    "L5=[40,29,14,7,15]  # L4 de moyenne = 21 et de max = 40 et de min = 7 \n",
    "\n",
    "def moyenne(liste):\n",
    "    '''\n",
    "    entrée: liste de float\n",
    "    sortie: float: donner la moyenne des valeurs de la liste\n",
    "    '''\n",
    "    assert not isinstance(liste,str), \"probleme type\"\n",
    "    moyenne=0\n",
    "    for element in liste:\n",
    "        moyenne+=element\n",
    "    moyenne=moyenne/len(liste)\n",
    "    return moyenne\n",
    "\n",
    "    \n",
    "   \n",
    "\n",
    "def maximum(liste):\n",
    "    '''\n",
    "    entrée: liste de float\n",
    "    sortie: float: donner la valeur maximale de la liste\n",
    "    '''\n",
    "    max= liste[0]\n",
    "    for element in liste:\n",
    "        if element>max:\n",
    "            max=element\n",
    "    \n",
    "    return max\n",
    "\n",
    " \n",
    "\n",
    "def minimum(liste):\n",
    "    '''\n",
    "    entrée: liste de float\n",
    "    sortie: float: donner la valeur minimale de la liste\n",
    "    '''\n",
    "    min = liste[0]\n",
    "\n",
    "    for element in liste:\n",
    "        if element < min:\n",
    "            min = element\n",
    "    return min\n",
    "  \n",
    "\n",
    "    \n",
    "\n",
    "# tester les fonctions\n",
    "print (moyenne(L3))\n",
    "print(maximum(L3))\n",
    "print (minimum(L3))\n",
    "\n",
    "\n",
    "\n"
   ]
  },
  {
   "cell_type": "markdown",
   "metadata": {},
   "source": [
    "## Exercice 3\n",
    "Définir la fonction `nb_elt_impairs()` qui prend en paramètre un tableau d'entiers (liste d'entiers) et qui renvoie le nombre d'entiers impairs présents dans ce tableau."
   ]
  },
  {
   "cell_type": "code",
   "execution_count": 3,
   "metadata": {},
   "outputs": [
    {
     "name": "stdout",
     "output_type": "stream",
     "text": [
      "3\n"
     ]
    }
   ],
   "source": [
    "## Exercice 3\n",
    "def nb_elt_impairs(tab):\n",
    "\n",
    "\n",
    "   '''Entrées  : list  \n",
    "       Sorties : int renvoie le nombre d'entiers impairs'''\n",
    "   \n",
    "   impairs= 0\n",
    "   for element in tab:\n",
    "      if element % 2 != 0:\n",
    "         impairs += 1\n",
    "   \n",
    "   return impairs\n",
    "\n",
    "L6=[3,57,23,798,54,2,4]\n",
    "print(nb_elt_impairs(L6))\n",
    "  \n",
    "\n",
    "\n"
   ]
  },
  {
   "cell_type": "markdown",
   "metadata": {},
   "source": [
    "## Exercice 4\n",
    "Définir la fonction `est_present()` qui prend comme paramètres un tableau d'entiers et un entier puis qui renvoie True si l'entier est dans le tableau, False sinon."
   ]
  },
  {
   "cell_type": "code",
   "execution_count": 9,
   "metadata": {},
   "outputs": [],
   "source": [
    "## Exercice 4 : \n",
    "def est_present(tab , valeur ):\n",
    "    '''\n",
    "    Entrées: tab et valeur types List et int\n",
    "    Sorties: bool , True si la valeur est dans la tab False sinon\n",
    "    '''\n",
    "    assert isinstance(tab,list),\"probleme type\"  \n",
    "    assert isinstance(valeur, int), \"probleme type\"\n",
    "    for element in tab:\n",
    "        if element == valeur:\n",
    "            return True\n",
    "    return False\n",
    "\n",
    "assert(est_present([2,5,3,23,6,5],2)) == True\n",
    "assert(est_present([2,5,3,23,6,5],1)) == False\n"
   ]
  },
  {
   "cell_type": "markdown",
   "metadata": {},
   "source": [
    "## Exercice 5 :\n",
    "Définir la fonction `concatene()` qui prend en paramètre deux tableaux et qui renvoie un tableau contenant tous les éléments du premier suivis de tous les éléments du second.\n",
    "Bien évidemment, il est interdit d'utiliser la concaténation...\n"
   ]
  },
  {
   "cell_type": "code",
   "execution_count": 11,
   "metadata": {},
   "outputs": [
    {
     "name": "stdout",
     "output_type": "stream",
     "text": [
      "[2, 3, 5, 4, 232, 3, 1]\n"
     ]
    }
   ],
   "source": [
    "## Exercice 5\n",
    "def concatene(tab1, tab2):\n",
    "    '''\n",
    "    Entrées: tab 1 et tab 2 de type List\n",
    "    sortie: List, une concaténation des deux listes d'entrées\n",
    "    '''\n",
    "    liste=[]\n",
    "    for element in tab1:\n",
    "        liste.append(element)\n",
    "    for element in tab2:\n",
    "        liste.append(element)\n",
    "\n",
    "    return liste\n",
    "\n",
    "print(concatene([2,3,5,4],[232,3,1]))"
   ]
  },
  {
   "cell_type": "markdown",
   "metadata": {},
   "source": [
    "## Exercice 6 :\n",
    "Complétez le code de la fonction `somme_indices_pairs()` qui prend en paramètre un tableau d'entiers et qui renvoie la somme des éléments d'indices pairs de ce tableau."
   ]
  },
  {
   "cell_type": "code",
   "execution_count": 18,
   "metadata": {},
   "outputs": [
    {
     "name": "stdout",
     "output_type": "stream",
     "text": [
      "11\n"
     ]
    }
   ],
   "source": [
    "## Exercice 6\n",
    "def somme_indices_pairs(tab):\n",
    "    '''\n",
    "    Entrées: liste\n",
    "    Sortie: int - renvoie la somme des éléments d'indices pairs \n",
    "    '''\n",
    "    somme=0\n",
    "    for i in range (len(tab)):\n",
    "        if i %2 == 0:\n",
    "            somme+=tab[i]\n",
    "    return somme\n",
    "\n",
    "print(somme_indices_pairs([2,5,3,23,6,5]))"
   ]
  },
  {
   "cell_type": "markdown",
   "metadata": {},
   "source": [
    "## Exercice 7 :\n",
    "Complétez le code de la fonction `somme_valeur_pairs()` qui prend en paramètre un tableau d'entiers et qui renvoie la somme des éléments pairs de ce tableau."
   ]
  },
  {
   "cell_type": "code",
   "execution_count": 14,
   "metadata": {},
   "outputs": [
    {
     "name": "stdout",
     "output_type": "stream",
     "text": [
      "8\n"
     ]
    }
   ],
   "source": [
    "## Exercice 7\n",
    "def somme_valeur_pairs(tab):\n",
    "    '''\n",
    "    Entrées: Liste\n",
    "    Sortie: int , renvoie la somme des éléments pairs \n",
    "    '''\n",
    "    somme=0\n",
    "    for element in tab:\n",
    "        if element %2 == 0:\n",
    "            somme+= element\n",
    "    return somme\n",
    "\n",
    "print(somme_valeur_pairs([2,5,3,23,6,5]))"
   ]
  },
  {
   "cell_type": "markdown",
   "metadata": {},
   "source": [
    "## Exercice 8\n",
    "Complétez le code de la fonction `occurrences()` qui prend en paramètres un tableau et une valeur et qui renvoie le nombre de fois où cette valeur est présente dans le tableau. Evidemment, il est interdit d'utiliser la fonction `count()`"
   ]
  },
  {
   "cell_type": "code",
   "execution_count": 17,
   "metadata": {},
   "outputs": [
    {
     "name": "stdout",
     "output_type": "stream",
     "text": [
      "1\n"
     ]
    }
   ],
   "source": [
    "## Exercice 8\n",
    "def occurrences(tab, valeur):\n",
    "    '''\n",
    "    Entrées: tab et valeur types List et int\n",
    "    Sorties: int , renvoie le nombre de fois que la valeur présente.\n",
    "    >>> occurrences([5,2,3], 3)\n",
    "    1\n",
    "    '''\n",
    "    compteur=0\n",
    "    for element in tab:\n",
    "        if element == valeur:\n",
    "            compteur += 1\n",
    "    return compteur\n",
    "\n",
    "print(occurrences([2,5,3,23,6,5,2], 2))\n",
    "    \n",
    "    "
   ]
  },
  {
   "cell_type": "markdown",
   "metadata": {},
   "source": [
    "## Exercice 9\n",
    "Soit la fonction `carres ()` suivante. Commenter le code pour dire ce que fait chaque instruction."
   ]
  },
  {
   "cell_type": "code",
   "execution_count": null,
   "metadata": {},
   "outputs": [],
   "source": [
    "def carres (n): #foncrtion carres avec entree n\n",
    "    t = [0] * n #t egal a valeur de indice 0 fois le nombre n choisie\n",
    "    for i in range (len (t)) : #boucle for i in range de la longeur de t\n",
    "        t[i] = i * i #a chaque indice i faire le carre de i \n",
    "    return t #retourner t\n"
   ]
  },
  {
   "cell_type": "markdown",
   "metadata": {},
   "source": [
    "## Exercice 10\n",
    "complétez le corps de la fonction `tab_somme()` en respectant ses spécifications. "
   ]
  },
  {
   "cell_type": "code",
   "execution_count": 21,
   "metadata": {},
   "outputs": [
    {
     "name": "stdout",
     "output_type": "stream",
     "text": [
      "[2, 4, 7, 12]\n",
      "[1, 0, 2, 1]\n"
     ]
    }
   ],
   "source": [
    "## Exercice 10\n",
    "def tab_somme(tab1, tab2):\n",
    "    \"\"\"\n",
    "    tab1, tab2 – list, tableaux d'entiers de même longueur\n",
    "    Sortie: list – tableau des sommes des éléments de tab1 et tab2 ayant le même indice\n",
    "    >>> tab_somme([1, 2, 4, 8], [1, 2, 3, 4])\n",
    "    [2, 4, 7, 12]\n",
    "    >>> \n",
    "    [1, 0, 2, 1]\n",
    "    \"\"\"\n",
    "    assert isinstance(tab1,list), \"probleme type\"\n",
    "    assert isinstance(tab1,list), \"probleme type\"\n",
    "    assert len(tab1)==len(tab2), 'probleme longueur tableau'\n",
    "    for element in tab1:\n",
    "        assert isinstance(element,int), \"problemen type\"\n",
    "    for element in tab2:\n",
    "        assert isinstance(element,int), \"problemen type\"\n",
    "    liste= []\n",
    "    for i in range(len(tab1)):\n",
    "        liste.append(tab1[i]+tab2[i])\n",
    "    return liste\n",
    "\n",
    "print(tab_somme([1, 2, 4, 8], [1, 2, 3, 4]))\n",
    "print(tab_somme([0, 0, 1, 1], [1, 0, 1, 0]))"
   ]
  },
  {
   "cell_type": "markdown",
   "metadata": {},
   "source": [
    "## Exercice 11\n",
    "Améliorer la fonction précédente pour qu'elle agisse même lorsque les tableaux tab1 et tab2 n'ont pas la même longueur. On considérera que les éléments manquants sont nuls."
   ]
  },
  {
   "cell_type": "code",
   "execution_count": 5,
   "metadata": {},
   "outputs": [
    {
     "name": "stdout",
     "output_type": "stream",
     "text": [
      "[2, 4, 7, 12]\n",
      "[1, 0, 2, 1]\n",
      "[1, 0, 2, 1, 3, 4]\n"
     ]
    }
   ],
   "source": [
    "def tab_sommeV2(tab1, tab2):\n",
    "    \"\"\"\n",
    "    tab1, tab2 – list, tableaux d'entiers pas forcement de même longueur.\n",
    "    Sortie: list – tableau des sommes des éléments de tab1 et tab2 \n",
    "            ayant le même indice\n",
    "    >>> tab_somme([1, 2, 4, 8], [1, 2, 3, 4])\n",
    "    [2, 4, 7, 12]\n",
    "    >>> tab_somme([0, 0, 1, 1], [1, 0, 1, 0])\n",
    "    [1, 0, 2, 1]\n",
    "    >>> tab_somme([0, 0, 1, 1], [1, 0, 1, 0, 3, 4])\n",
    "    [1, 0, 2, 1, 3, 4]\n",
    "    \"\"\"\n",
    "    assert isinstance(tab1,list), \"probleme type\"\n",
    "    assert isinstance(tab1,list), \"probleme type\"\n",
    "    \n",
    "    for element in tab1:\n",
    "        assert isinstance(element,int), \"problemen type\"\n",
    "    for element in tab2:\n",
    "        assert isinstance(element,int), \"problemen type\"\n",
    "    liste= []\n",
    "\n",
    "\n",
    "    if len(tab1)>=len(tab2):\n",
    "        longueur = len(tab1)\n",
    "    else:\n",
    "        longueur = len(tab2)\n",
    "\n",
    "    for i in range(longueur):\n",
    "        val1 = tab1[i] if i < len(tab1) else 0\n",
    "        val2 = tab2[i] if i < len(tab2) else 0\n",
    "        liste.append(val1 + val2)\n",
    "    return liste\n",
    "\n",
    "print(tab_sommeV2([1, 2, 4, 8], [1, 2, 3, 4]))\n",
    "print(tab_sommeV2([0, 0, 1, 1], [1, 0, 1, 0]))\n",
    "print(tab_sommeV2([0, 0, 1, 1], [1, 0, 1, 0, 3, 4]))"
   ]
  },
  {
   "cell_type": "markdown",
   "metadata": {},
   "source": [
    "## Exercice 12\n",
    "Complétez le corps de la fonction `hamming()` en respectant ses spécifications. "
   ]
  },
  {
   "cell_type": "code",
   "execution_count": 8,
   "metadata": {},
   "outputs": [
    {
     "name": "stdout",
     "output_type": "stream",
     "text": [
      "2\n",
      "2\n"
     ]
    }
   ],
   "source": [
    "def hamming(tab1, tab2):\n",
    "    \"\"\"\n",
    "    tab1, tab2 – list, tableaux de même longueur\n",
    "    Sortie: int – nombre d'indices i pour lesquels tab1[i]\n",
    "            est différent de tab2[i]\n",
    "    >>> hamming([1, 2, 4, 8], [1, 2, 3, 4])\n",
    "    2\n",
    "    >>> hamming([0, 0, 1, 1], [1, 0, 1, 0])\n",
    "    2\n",
    "    \"\"\"\n",
    "    assert isinstance(tab1,list), \"probleme type\"\n",
    "    assert isinstance(tab1,list), \"probleme type\"\n",
    "    assert len(tab1)==len(tab2), 'probleme longueur tableau'\n",
    "    for element in tab1:\n",
    "        assert isinstance(element,int), \"problemen type\"\n",
    "    for element in tab2:\n",
    "        assert isinstance(element,int), \"problemen type\"\n",
    "    liste= []\n",
    "    compteur = 0\n",
    "    for i in range(len(tab1)):\n",
    "        if tab1[i]==tab2[i]:\n",
    "            compteur+=1\n",
    "    return compteur\n",
    "\n",
    "print(hamming([1, 2, 4, 8], [1, 2, 3, 4]))\n",
    "print(hamming([0, 0, 1, 1], [1, 0, 1, 0]))\n",
    "    "
   ]
  },
  {
   "cell_type": "markdown",
   "metadata": {},
   "source": [
    "\n",
    "\n"
   ]
  }
 ],
 "metadata": {
  "kernelspec": {
   "display_name": "Python 3",
   "language": "python",
   "name": "python3"
  },
  "language_info": {
   "codemirror_mode": {
    "name": "ipython",
    "version": 3
   },
   "file_extension": ".py",
   "mimetype": "text/x-python",
   "name": "python",
   "nbconvert_exporter": "python",
   "pygments_lexer": "ipython3",
   "version": "3.10.12"
  },
  "orig_nbformat": 4,
  "vscode": {
   "interpreter": {
    "hash": "10ba4a643af5912602431910803a675cc7482c7c144651332b07c691003ef31a"
   }
  }
 },
 "nbformat": 4,
 "nbformat_minor": 2
}
