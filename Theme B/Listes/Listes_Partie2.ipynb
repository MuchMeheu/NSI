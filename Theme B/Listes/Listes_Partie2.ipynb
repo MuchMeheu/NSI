{
 "cells": [
  {
   "attachments": {},
   "cell_type": "markdown",
   "metadata": {},
   "source": [
    " \n",
    "\n",
    "\n",
    "\n",
    "# Cours et activités sur les listes (Tableaux) - Suite"
   ]
  },
  {
   "cell_type": "markdown",
   "metadata": {},
   "source": [
    "## Supprimer une entrée : `del`, `.remove(x)` ou `.pop(i)`\n",
    "Il y a trois méthodes pour supprimer une entrée : avec son index (del ou pop), avec sa valeur (remove).\n",
    "\n",
    "### Avec l'index :  la fonction `del liste[ i ]` ou `pop(i)`\n",
    "- La fonction `del liste[i]` va supprimer l'item à l'index i spécifié (pas besoin de connaître l'item). \n",
    "- La méthode `liste.pop(i)` va supprimer l'item à l'index i spécifié et renvoyer sa valeur. Si on ne donne pas i, c'est le dernier élément qui est supprimé\n",
    "\n"
   ]
  },
  {
   "cell_type": "code",
   "execution_count": 1,
   "metadata": {},
   "outputs": [
    {
     "name": "stdout",
     "output_type": "stream",
     "text": [
      "Liste avant la suppression du 2e élément [(1, 2), (3, 4), (5, 6), (70, 80), (70, 80)]\n",
      "Liste après la suppression du 2e élément avec del [(1, 2), (5, 6), (70, 80), (70, 80)]\n",
      "Suppression du 3e élément avec pop qui le donne (70, 80)\n",
      "Liste après la suppression du 3e élément avec pop [(1, 2), (5, 6), (70, 80)]\n"
     ]
    }
   ],
   "source": [
    "#EXEMPLES: essayons les deux fonctions del et pop(i)\n",
    "\n",
    "liste_c=[(1,2),(3,4),(5,6),(70,80),(70,80)]\n",
    "print('Liste avant la suppression du 2e élément' , liste_c)\n",
    "del liste_c[1] # on supprime le 2e élément\n",
    "print('Liste après la suppression du 2e élément avec del' , liste_c)\n",
    "# on supprime le 3e élément et on le renvoie\n",
    "print('Suppression du 3e élément avec pop qui le donne' ,liste_c.pop(2))\n",
    "print('Liste après la suppression du 3e élément avec pop' , liste_c)"
   ]
  },
  {
   "cell_type": "markdown",
   "metadata": {},
   "source": [
    "### Avec sa valeur :  la méthode .remove(x).\n",
    "Il est possible de supprimer une entrée d'une liste avec sa valeur avec la méthode `.remove()` . \n",
    "`liste.remove(x)` : supprime de la liste le premier élément dont la valeur est égale à x\n",
    "\n",
    "La syntaxe est : `maliste.remove(élément)`"
   ]
  },
  {
   "cell_type": "code",
   "execution_count": null,
   "metadata": {},
   "outputs": [],
   "source": [
    "liste2 = [1.2,0.2,3.7] # une liste de flotants\n",
    "print('Liste2 avant la suppression du 2e élément' , liste2)\n",
    "liste2.remove(3.7) # on supprime 3.7\n",
    "print('Liste2 après la suppression du 2e élément' , liste2)"
   ]
  },
  {
   "cell_type": "markdown",
   "metadata": {},
   "source": [
    "On pourrait par exemple dans votre liste `maliste` précédent supprimer le 4e élément et la valeur 17."
   ]
  },
  {
   "cell_type": "code",
   "execution_count": 2,
   "metadata": {},
   "outputs": [
    {
     "name": "stdout",
     "output_type": "stream",
     "text": [
      "[2, 3, 5, 7, 11, 13, 17]\n",
      "[2, 3, 5, 11, 13]\n"
     ]
    }
   ],
   "source": [
    "## Exercice 1 : Question 4\n",
    "#  Supprimer le 4e élément et la valeur 17 de maliste1. écrire les instructions adéquates\n",
    "maliste1=[2,3,5,7,11,13,17]\n",
    "print (maliste1)\n",
    "del maliste1[3]\n",
    "maliste1.remove(17)\n",
    "print(maliste1)\n"
   ]
  },
  {
   "cell_type": "markdown",
   "metadata": {},
   "source": [
    "## Inverser les valeurs d'une liste\n",
    "\n",
    "Vous pouvez inverser les items d'une liste avec la méthode `.reverse()` . "
   ]
  },
  {
   "cell_type": "code",
   "execution_count": 1,
   "metadata": {},
   "outputs": [
    {
     "name": "stdout",
     "output_type": "stream",
     "text": [
      "Liste3 avant .reverse() [[1, 2, 3], [4, 5], [10, 20, 30]]\n",
      "Liste3 après .reverse() [[10, 20, 30], [4, 5], [1, 2, 3]]\n"
     ]
    }
   ],
   "source": [
    "liste3 = [[1,2,3],[4,5],[10,20,30]] # une liste de listes\n",
    "print('Liste3 avant .reverse()' , liste3)\n",
    "liste3.reverse() # on inverse les éléments de la liste\n",
    "print('Liste3 après .reverse()' , liste3)"
   ]
  },
  {
   "cell_type": "code",
   "execution_count": 3,
   "metadata": {},
   "outputs": [
    {
     "name": "stdout",
     "output_type": "stream",
     "text": [
      "[2, 3, 5, 7, 11, 13, 17]\n",
      "[17, 13, 11, 7, 5, 3, 2]\n"
     ]
    }
   ],
   "source": [
    "## Exercice 1 : Question 5\n",
    "#  Inverser les valeurs de maliste1\n",
    "maliste1=[2,3,5,7,11,13,17]\n",
    "print(maliste1)\n",
    "# solution\n",
    "\n",
    "maliste1.reverse()\n",
    "print(maliste1)"
   ]
  },
  {
   "cell_type": "markdown",
   "metadata": {},
   "source": [
    "## Compter le nombre d'occurences d'une valeur\n",
    "\n",
    "Pour connaitre le nombre d'occurences d'une valeur dans une liste, vous pouvez utiliser la méthode `.count()`  "
   ]
  },
  {
   "cell_type": "code",
   "execution_count": null,
   "metadata": {},
   "outputs": [],
   "source": [
    "liste5=[1,1,1,2,2,2,4,9,7,5,3,69,4,1,2,6,2,3,4,1,3,2,8]\n",
    "liste5.count(1)\n"
   ]
  },
  {
   "cell_type": "markdown",
   "metadata": {},
   "source": [
    "## Trouver l'index d'une valeur\n",
    "\n",
    "La méthode `.index()` vous permet de connaitre la position de l'item cherché.\n",
    "la syntaxe est : `liste.index(v1)`"
   ]
  },
  {
   "cell_type": "code",
   "execution_count": 4,
   "metadata": {},
   "outputs": [
    {
     "data": {
      "text/plain": [
       "0"
      ]
     },
     "execution_count": 4,
     "metadata": {},
     "output_type": "execute_result"
    }
   ],
   "source": [
    "liste6 = [\"a\",\"b\",\"c\",\"d\",\"e\",\"e\"]\n",
    "liste6.index(\"a\") # on cherche l'index de l'élément 'a'\n"
   ]
  },
  {
   "cell_type": "code",
   "execution_count": 5,
   "metadata": {},
   "outputs": [
    {
     "data": {
      "text/plain": [
       "4"
      ]
     },
     "execution_count": 5,
     "metadata": {},
     "output_type": "execute_result"
    }
   ],
   "source": [
    "liste6.index(\"e\") # on cherche l'index de l'élément 'e', il y en a 2, il renvoit le 1er indice"
   ]
  },
  {
   "cell_type": "code",
   "execution_count": 6,
   "metadata": {},
   "outputs": [
    {
     "ename": "ValueError",
     "evalue": "'f' is not in list",
     "output_type": "error",
     "traceback": [
      "\u001b[0;31m---------------------------------------------------------------------------\u001b[0m",
      "\u001b[0;31mValueError\u001b[0m                                Traceback (most recent call last)",
      "\u001b[1;32m/home/ethanunbuntu/NSI/Theme B/Listes_Partie2.ipynb Cell 16\u001b[0m line \u001b[0;36m1\n\u001b[0;32m----> <a href='vscode-notebook-cell:/home/ethanunbuntu/NSI/Theme%20B/Listes_Partie2.ipynb#X21sZmlsZQ%3D%3D?line=0'>1</a>\u001b[0m liste6\u001b[39m.\u001b[39;49mindex(\u001b[39m\"\u001b[39;49m\u001b[39mf\u001b[39;49m\u001b[39m\"\u001b[39;49m) \u001b[39m# on cherche l'index de l'élément 'f', il n'y en a pas\u001b[39;00m\n",
      "\u001b[0;31mValueError\u001b[0m: 'f' is not in list"
     ]
    }
   ],
   "source": [
    "liste6.index(\"f\") # on cherche l'index de l'élément 'f', il n'y en a pas"
   ]
  },
  {
   "cell_type": "code",
   "execution_count": 8,
   "metadata": {},
   "outputs": [
    {
     "data": {
      "text/plain": [
       "10"
      ]
     },
     "execution_count": 8,
     "metadata": {},
     "output_type": "execute_result"
    }
   ],
   "source": [
    "## Exercice 1 : Question 6\n",
    "#  Trouver l'index de 21 dans maliste2\n",
    "maliste2 = [i for i in range (1,32,2)]\n",
    "maliste2.index(21)\n"
   ]
  },
  {
   "cell_type": "markdown",
   "metadata": {},
   "source": [
    "## Astuces - Manipuler une liste : les slices\n",
    "\n",
    "Voici quelques astuces pour manipuler des listes:\n",
    "\n"
   ]
  },
  {
   "cell_type": "code",
   "execution_count": null,
   "metadata": {},
   "outputs": [],
   "source": [
    "liste = [1, 10, 100, 250, 500]\n",
    "liste[0] # le 1er élément"
   ]
  },
  {
   "cell_type": "code",
   "execution_count": null,
   "metadata": {},
   "outputs": [],
   "source": [
    "liste = [1, 10, 100, 250, 500]\n",
    "liste[-1] # Cherche le dernier élément \n"
   ]
  },
  {
   "cell_type": "code",
   "execution_count": 9,
   "metadata": {},
   "outputs": [
    {
     "data": {
      "text/plain": [
       "[500, 250, 100, 10, 1]"
      ]
     },
     "execution_count": 9,
     "metadata": {},
     "output_type": "execute_result"
    }
   ],
   "source": [
    "liste = [1, 10, 100, 250, 500]\n",
    "liste[::-1] # Affiche la liste a l'envers\n",
    "\n"
   ]
  },
  {
   "cell_type": "code",
   "execution_count": null,
   "metadata": {},
   "outputs": [],
   "source": [
    "liste = [1, 10, 100, 250, 500,600,700]\n",
    "liste[2:5] # les éléments d'indice 2 à 4\n"
   ]
  },
  {
   "cell_type": "code",
   "execution_count": 11,
   "metadata": {},
   "outputs": [
    {
     "name": "stdout",
     "output_type": "stream",
     "text": [
      "['r', 'r', 'r', 'r', 'r', 'r', 'r', 'r', 'r', 'r']\n"
     ]
    }
   ],
   "source": [
    "# On peut créer facilement une liste par \"multiplication\"\n",
    "mult=['r']*10\n",
    "print(mult)"
   ]
  },
  {
   "cell_type": "markdown",
   "metadata": {},
   "source": [
    "##  Comment parcourir une liste python?\n",
    "###  Une boucle directe sur la liste"
   ]
  },
  {
   "cell_type": "code",
   "execution_count": 12,
   "metadata": {},
   "outputs": [
    {
     "name": "stdout",
     "output_type": "stream",
     "text": [
      "10\n",
      "20\n",
      "30\n",
      "40\n",
      "50\n",
      "60\n"
     ]
    }
   ],
   "source": [
    "liste9=[10,20,30,40,50,60]\n",
    "for element in liste9:\n",
    "    print (element)"
   ]
  },
  {
   "cell_type": "markdown",
   "metadata": {},
   "source": [
    "###  Une boucle avec les indices, il faut alors connaître la longueur de la liste"
   ]
  },
  {
   "cell_type": "code",
   "execution_count": 7,
   "metadata": {},
   "outputs": [
    {
     "name": "stdout",
     "output_type": "stream",
     "text": [
      "La valeur d'index  0 de la liste9 est : 10\n",
      "La valeur d'index  1 de la liste9 est : 20\n",
      "La valeur d'index  2 de la liste9 est : 30\n",
      "La valeur d'index  3 de la liste9 est : 40\n",
      "La valeur d'index  4 de la liste9 est : 50\n",
      "La valeur d'index  5 de la liste9 est : 60\n"
     ]
    }
   ],
   "source": [
    "liste9=[10,20,30,40,50,60]\n",
    "longueur=len(liste9) # pour obtenir la longueur\n",
    "for index in range(longueur):\n",
    "    print(\"La valeur d'index \", index, \"de la liste9 est :\",  liste9[index])"
   ]
  },
  {
   "cell_type": "markdown",
   "metadata": {},
   "source": [
    "### On peut aussi utiliser la fonction `enumerate()` qui renvoie l'indice et la valeur"
   ]
  },
  {
   "cell_type": "code",
   "execution_count": null,
   "metadata": {},
   "outputs": [],
   "source": [
    "liste9=[10,20,30,40,50,60]\n",
    "\n",
    "for index,valeur in enumerate(liste9):\n",
    "    print(f\"La valeur d'index {index} de la liste9 est :{liste9[index]}\" )"
   ]
  },
  {
   "cell_type": "code",
   "execution_count": 9,
   "metadata": {},
   "outputs": [
    {
     "name": "stdout",
     "output_type": "stream",
     "text": [
      "1\n",
      "3\n",
      "5\n",
      "7\n",
      "9\n",
      "11\n",
      "13\n",
      "15\n",
      "17\n",
      "19\n",
      "21\n",
      "23\n",
      "25\n",
      "27\n",
      "29\n",
      "31\n",
      "0 1\n",
      "1 3\n",
      "2 5\n",
      "3 7\n",
      "4 9\n",
      "5 11\n",
      "6 13\n",
      "7 15\n",
      "8 17\n",
      "9 19\n",
      "10 21\n",
      "11 23\n",
      "12 25\n",
      "13 27\n",
      "14 29\n",
      "15 31\n",
      "0 1\n",
      "1 3\n",
      "2 5\n",
      "3 7\n",
      "4 9\n",
      "5 11\n",
      "6 13\n",
      "7 15\n",
      "8 17\n",
      "9 19\n",
      "10 21\n",
      "11 23\n",
      "12 25\n",
      "13 27\n",
      "14 29\n",
      "15 31\n"
     ]
    }
   ],
   "source": [
    "## Exercice 1 : Question 7\n",
    "# 5.1 Afficher les valeurs de votre liste maliste2 avec les différentes méthodes proposées\n",
    "maliste2 = [i for i in range (1,32,2)]\n",
    "for element in maliste2:\n",
    "    print(element)\n",
    "longueur=len(maliste2)\n",
    "for index in range(longueur):\n",
    "    print(index,maliste2[index])\n",
    "for index,valeur in enumerate(maliste2):\n",
    "    print(index,maliste2[index])"
   ]
  },
  {
   "cell_type": "markdown",
   "metadata": {},
   "source": [
    "##  Comment  copier une liste : méthode copy() ou fonction list()\n",
    "Supposons que l’on souhaite effectuer une copie de la liste9.  "
   ]
  },
  {
   "cell_type": "code",
   "execution_count": 13,
   "metadata": {},
   "outputs": [
    {
     "name": "stdout",
     "output_type": "stream",
     "text": [
      "[10, 20, 30, 40, 50, 60]\n",
      "[10, 20, 30, 40, 50, 60]\n"
     ]
    }
   ],
   "source": [
    "liste9=[10,20,30,40,50,60]\n",
    "print(liste9)\n",
    "une_copie=liste9\n",
    "print(une_copie)"
   ]
  },
  {
   "cell_type": "code",
   "execution_count": 14,
   "metadata": {},
   "outputs": [
    {
     "name": "stdout",
     "output_type": "stream",
     "text": [
      "liste9=  ['OK', 20, 30, 40, 50, 60]\n",
      "une_copie=  ['OK', 20, 30, 40, 50, 60]\n"
     ]
    }
   ],
   "source": [
    "# On va modifier la liste copiée, on remarque qu'alors la liste9 aussi est modifiée.\n",
    "une_copie[0]='OK'  # on modifie le 1er élément\n",
    "print('liste9= ',liste9)\n",
    "print('une_copie= ',une_copie)"
   ]
  },
  {
   "cell_type": "markdown",
   "metadata": {},
   "source": [
    "On remarque que les deux listes ont été modifiées. Cela montre qu’il n’y a en fait qu’un seul objet et que liste9 et une_copie sont en fait des références vers le même objet.\n",
    "Ces instructions ne créent pas une copie de la liste. Elles se contentent de créer ce que l’on appelle un alias, c’est-à-dire un autre nom pour désigner le même objet.\n",
    "\n",
    "Pour obtenir une vraie copie d’une liste, il faut utiliser, la méthode `copy()` ou la fonction `list()` :"
   ]
  },
  {
   "cell_type": "code",
   "execution_count": 15,
   "metadata": {},
   "outputs": [
    {
     "name": "stdout",
     "output_type": "stream",
     "text": [
      "liste9=  [10, 20, 30, 40, 50, 60]\n",
      "a3=  [10, 20, 'modif', 40, 50, 60]\n",
      "liste9=  [10, 20, 30, 40, 50, 60]\n",
      "a4=  [10, 'COUCOUmodif', 30, 40, 50, 60]\n"
     ]
    }
   ],
   "source": [
    "liste9=[10,20,30,40,50,60]\n",
    "a3=liste9.copy()\n",
    "a3[2]='modif' # on modifie le 3e élément\n",
    "print('liste9= ',liste9)\n",
    "print('a3= ',a3)\n",
    "\n",
    "a4=list(liste9)\n",
    "a4[1]='COUCOUmodif' # on modifie le 2e élément\n",
    "print('liste9= ',liste9)\n",
    "print('a4= ',a4)"
   ]
  },
  {
   "cell_type": "code",
   "execution_count": 17,
   "metadata": {},
   "outputs": [
    {
     "name": "stdout",
     "output_type": "stream",
     "text": [
      "[1, 3, 5, 7, 9, 11, 13, 15, 17, 19, 21, 23, 25, 27, 29, 31]\n",
      "[1, 3, 'modif', 7, 9, 11, 13, 15, 17, 19, 21, 23, 25, 27, 29, 31]\n"
     ]
    }
   ],
   "source": [
    "## Exercice 1 : Question 8\n",
    "# Copier votre liste maliste2 dans une autre liste et vérifier les résultats du cours. \n",
    "# Vérifier alors les remarques du cours.\n",
    "maliste2 = [i for i in range (1,32,2)]\n",
    "copie=maliste2.copy()\n",
    "print(copie)\n",
    "copie[2]=\"modif\"\n",
    "print(copie)"
   ]
  },
  {
   "cell_type": "markdown",
   "metadata": {},
   "source": [
    "##  Concaténer deux liste : +\n",
    "\n",
    "Il est possible de concaténer deux listes en les ajoutant :\n"
   ]
  },
  {
   "cell_type": "code",
   "execution_count": 18,
   "metadata": {},
   "outputs": [
    {
     "name": "stdout",
     "output_type": "stream",
     "text": [
      "['apples', 'oranges', 'pears', 'pears', 'grapes', 'lemons']\n"
     ]
    }
   ],
   "source": [
    "listeA = ['apples', 'oranges', 'pears']\n",
    "listeB= ['pears' , 'grapes' , 'lemons']\n",
    "concatenation = listeA+listeB\n",
    "print(concatenation)\n"
   ]
  },
  {
   "cell_type": "markdown",
   "metadata": {},
   "source": [
    "## Trier une liste : méthode .sort()\n",
    "On peut facilement trier une liste avec la méthode `.sort()`"
   ]
  },
  {
   "cell_type": "code",
   "execution_count": 19,
   "metadata": {},
   "outputs": [
    {
     "name": "stdout",
     "output_type": "stream",
     "text": [
      "[2, 3, 6, 7, 20, 54, 97, 111]\n"
     ]
    }
   ],
   "source": [
    "liste10=[20,54,2,97,3,111,6,7]\n",
    "liste10.sort()\n",
    "print(liste10)"
   ]
  },
  {
   "cell_type": "markdown",
   "metadata": {},
   "source": [
    "## Des chaînes aux listes : split\n",
    "Pour convertir une chaîne en liste on peut utilisee la méthode `split()`.\n",
    "La syntaxe est : `maChaine.split(elementSeparateur)` ou `list(chaîne)`"
   ]
  },
  {
   "cell_type": "code",
   "execution_count": 22,
   "metadata": {},
   "outputs": [
    {
     "data": {
      "text/plain": [
       "['Bonjour', 'tout', 'le', 'monde,', 'comment', 'ça', 'va', '?']"
      ]
     },
     "execution_count": 22,
     "metadata": {},
     "output_type": "execute_result"
    }
   ],
   "source": [
    "p=\"Bonjour tout le monde, comment ça va ?\"\n",
    "p.split(\" \")"
   ]
  },
  {
   "cell_type": "markdown",
   "metadata": {},
   "source": [
    "## Des chaînes aux listes : list()\n",
    "Pour convertir une chaîne en liste on peut aussi utiliser la fonction `list()`.\n",
    "La syntaxe est : `list(chaîne)`"
   ]
  },
  {
   "cell_type": "code",
   "execution_count": 23,
   "metadata": {},
   "outputs": [
    {
     "name": "stdout",
     "output_type": "stream",
     "text": [
      "['b', 'o', 'n', 'j', 'o', 'u', 'r']\n"
     ]
    }
   ],
   "source": [
    "s=list('bonjour')\n",
    "print(s)"
   ]
  },
  {
   "cell_type": "markdown",
   "metadata": {},
   "source": [
    "# Résumé des notions abordées\n",
    "\n",
    "- Une liste L est un objet conteneur qui est mutable.\n",
    "- Pour créer une liste, on utilise la syntaxe :\n",
    "    - `liste = [valeur1,valeur2,valeur3]`\n",
    "- Pour récupérer une valeur dans une liste python.    - \n",
    "    - la méthode directe : `nom_liste[index]`\n",
    "    - Attention le 1er élément de la liste L est L[0], le 2e est L[1] ... \n",
    "- On peut ajouter ou remplacer un élément dans un dictionnaire:\n",
    "    - `liste[index] = valeur` # pour modifier la valeur \n",
    "    - `liste.append(valeur)` # pour ajouter valeur à la fin de la liste\n",
    "- On peut supprimer un valeur d'une liste\n",
    "    - Avec l'index : del ou pop\n",
    "        - La fonction `del liste[i]` va supprimer l'item à l'index i spécifié (pas besoin de connaître l'item). \n",
    "        - La méthode `liste.pop(i)` va supprimer l'item à l'index i spécifié et renvoyer sa valeur. \n",
    "    - Avec sa valeur :  la méthode `.remove()`.\n",
    "        - `liste.remove(x)` : supprime de la liste le premier élément dont la valeur est égale à x\n",
    "- On peut parcourir une liste grâce aux méthodes:\n",
    "    - par les index : `for index in range(len(liste))`\n",
    "    - directement   : `for élément in liste`\n",
    "- Trouver l'index d'une valeur v1\n",
    "    - La méthode : `liste.index(v1)`\n",
    "- Trier une liste\n",
    "    - méthode `.sort()` : `liste.sort()`\n",
    "- `liste.count(x)`: renvoie le nombre d'apparitions de x dans la liste\n",
    "- `liste[i:j]` : renvoie une sous liste composée des éléments d'indice i à (j-1)\n",
    "    - Par exemple `liste[2:4]` renvoie la liste composée des élément `liste[2]` et `liste[3]`"
   ]
  },
  {
   "cell_type": "code",
   "execution_count": null,
   "metadata": {},
   "outputs": [],
   "source": [
    "# Pour accéder à toutes les fonctions et méthodes liées à la classe liste (la notion de classe sera vue plus tard)\n",
    "# il suffit de taper la commande dir(nom_liste) :\n",
    "a=[]\n",
    "dir(a)"
   ]
  },
  {
   "cell_type": "markdown",
   "metadata": {},
   "source": [
    "\n",
    "\n"
   ]
  }
 ],
 "metadata": {
  "kernelspec": {
   "display_name": "Python 3",
   "language": "python",
   "name": "python3"
  },
  "language_info": {
   "codemirror_mode": {
    "name": "ipython",
    "version": 3
   },
   "file_extension": ".py",
   "mimetype": "text/x-python",
   "name": "python",
   "nbconvert_exporter": "python",
   "pygments_lexer": "ipython3",
   "version": "3.10.12"
  },
  "orig_nbformat": 4,
  "vscode": {
   "interpreter": {
    "hash": "10ba4a643af5912602431910803a675cc7482c7c144651332b07c691003ef31a"
   }
  }
 },
 "nbformat": 4,
 "nbformat_minor": 2
}
